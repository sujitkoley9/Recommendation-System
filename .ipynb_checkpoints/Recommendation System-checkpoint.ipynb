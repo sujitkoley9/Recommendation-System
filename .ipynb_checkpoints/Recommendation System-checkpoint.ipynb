{
 "cells": [
  {
   "cell_type": "markdown",
   "metadata": {},
   "source": [
    "<h1>Importing  required packages</h1>"
   ]
  },
  {
   "cell_type": "code",
   "execution_count": 1,
   "metadata": {},
   "outputs": [],
   "source": [
    "import pandas as pd\n",
    "import numpy as np\n",
    "import matplotlib.pyplot as plt"
   ]
  },
  {
   "cell_type": "markdown",
   "metadata": {},
   "source": [
    "<h1>Reading  Rating file and Movies detail  file</h1>"
   ]
  },
  {
   "cell_type": "code",
   "execution_count": 4,
   "metadata": {},
   "outputs": [],
   "source": [
    "#Reading rating files\n",
    "Rating_details = pd.read_csv(\"ml-100k/u.data\",delimiter=\"\\t\",header=None,names=['user id','item id','rating','timestamp'] )\n",
    "\n",
    "#Reading item file\n",
    "Colnames=['movie id','movie title','release date', 'video release date',\n",
    "          'IMDb URL','unknown','Action','Adventure','Animation','Childrens',\n",
    "          'Comedy','Crime','Documentary','Drama','Fantasy','Film-Noir','Horror',\n",
    "          'Musical','Mystery','Romance','Sci-Fi','Thriller','War','Western']\n",
    "Item_details = pd.read_csv(\"ml-100k/u.item\",delimiter=\"|\",header=None,names=Colnames,encoding='latin-1')\n",
    "\n"
   ]
  },
  {
   "cell_type": "markdown",
   "metadata": {},
   "source": [
    "<h1> Movies detail records  </h1>"
   ]
  },
  {
   "cell_type": "code",
   "execution_count": 6,
   "metadata": {},
   "outputs": [
    {
     "data": {
      "text/html": [
       "<div>\n",
       "<style scoped>\n",
       "    .dataframe tbody tr th:only-of-type {\n",
       "        vertical-align: middle;\n",
       "    }\n",
       "\n",
       "    .dataframe tbody tr th {\n",
       "        vertical-align: top;\n",
       "    }\n",
       "\n",
       "    .dataframe thead th {\n",
       "        text-align: right;\n",
       "    }\n",
       "</style>\n",
       "<table border=\"1\" class=\"dataframe\">\n",
       "  <thead>\n",
       "    <tr style=\"text-align: right;\">\n",
       "      <th></th>\n",
       "      <th>movie id</th>\n",
       "      <th>movie title</th>\n",
       "      <th>release date</th>\n",
       "      <th>video release date</th>\n",
       "      <th>IMDb URL</th>\n",
       "      <th>unknown</th>\n",
       "      <th>Action</th>\n",
       "      <th>Adventure</th>\n",
       "      <th>Animation</th>\n",
       "      <th>Childrens</th>\n",
       "      <th>...</th>\n",
       "      <th>Fantasy</th>\n",
       "      <th>Film-Noir</th>\n",
       "      <th>Horror</th>\n",
       "      <th>Musical</th>\n",
       "      <th>Mystery</th>\n",
       "      <th>Romance</th>\n",
       "      <th>Sci-Fi</th>\n",
       "      <th>Thriller</th>\n",
       "      <th>War</th>\n",
       "      <th>Western</th>\n",
       "    </tr>\n",
       "  </thead>\n",
       "  <tbody>\n",
       "    <tr>\n",
       "      <th>0</th>\n",
       "      <td>1</td>\n",
       "      <td>Toy Story (1995)</td>\n",
       "      <td>01-Jan-1995</td>\n",
       "      <td>NaN</td>\n",
       "      <td>http://us.imdb.com/M/title-exact?Toy%20Story%2...</td>\n",
       "      <td>0</td>\n",
       "      <td>0</td>\n",
       "      <td>0</td>\n",
       "      <td>1</td>\n",
       "      <td>1</td>\n",
       "      <td>...</td>\n",
       "      <td>0</td>\n",
       "      <td>0</td>\n",
       "      <td>0</td>\n",
       "      <td>0</td>\n",
       "      <td>0</td>\n",
       "      <td>0</td>\n",
       "      <td>0</td>\n",
       "      <td>0</td>\n",
       "      <td>0</td>\n",
       "      <td>0</td>\n",
       "    </tr>\n",
       "    <tr>\n",
       "      <th>1</th>\n",
       "      <td>2</td>\n",
       "      <td>GoldenEye (1995)</td>\n",
       "      <td>01-Jan-1995</td>\n",
       "      <td>NaN</td>\n",
       "      <td>http://us.imdb.com/M/title-exact?GoldenEye%20(...</td>\n",
       "      <td>0</td>\n",
       "      <td>1</td>\n",
       "      <td>1</td>\n",
       "      <td>0</td>\n",
       "      <td>0</td>\n",
       "      <td>...</td>\n",
       "      <td>0</td>\n",
       "      <td>0</td>\n",
       "      <td>0</td>\n",
       "      <td>0</td>\n",
       "      <td>0</td>\n",
       "      <td>0</td>\n",
       "      <td>0</td>\n",
       "      <td>1</td>\n",
       "      <td>0</td>\n",
       "      <td>0</td>\n",
       "    </tr>\n",
       "    <tr>\n",
       "      <th>2</th>\n",
       "      <td>3</td>\n",
       "      <td>Four Rooms (1995)</td>\n",
       "      <td>01-Jan-1995</td>\n",
       "      <td>NaN</td>\n",
       "      <td>http://us.imdb.com/M/title-exact?Four%20Rooms%...</td>\n",
       "      <td>0</td>\n",
       "      <td>0</td>\n",
       "      <td>0</td>\n",
       "      <td>0</td>\n",
       "      <td>0</td>\n",
       "      <td>...</td>\n",
       "      <td>0</td>\n",
       "      <td>0</td>\n",
       "      <td>0</td>\n",
       "      <td>0</td>\n",
       "      <td>0</td>\n",
       "      <td>0</td>\n",
       "      <td>0</td>\n",
       "      <td>1</td>\n",
       "      <td>0</td>\n",
       "      <td>0</td>\n",
       "    </tr>\n",
       "    <tr>\n",
       "      <th>3</th>\n",
       "      <td>4</td>\n",
       "      <td>Get Shorty (1995)</td>\n",
       "      <td>01-Jan-1995</td>\n",
       "      <td>NaN</td>\n",
       "      <td>http://us.imdb.com/M/title-exact?Get%20Shorty%...</td>\n",
       "      <td>0</td>\n",
       "      <td>1</td>\n",
       "      <td>0</td>\n",
       "      <td>0</td>\n",
       "      <td>0</td>\n",
       "      <td>...</td>\n",
       "      <td>0</td>\n",
       "      <td>0</td>\n",
       "      <td>0</td>\n",
       "      <td>0</td>\n",
       "      <td>0</td>\n",
       "      <td>0</td>\n",
       "      <td>0</td>\n",
       "      <td>0</td>\n",
       "      <td>0</td>\n",
       "      <td>0</td>\n",
       "    </tr>\n",
       "    <tr>\n",
       "      <th>4</th>\n",
       "      <td>5</td>\n",
       "      <td>Copycat (1995)</td>\n",
       "      <td>01-Jan-1995</td>\n",
       "      <td>NaN</td>\n",
       "      <td>http://us.imdb.com/M/title-exact?Copycat%20(1995)</td>\n",
       "      <td>0</td>\n",
       "      <td>0</td>\n",
       "      <td>0</td>\n",
       "      <td>0</td>\n",
       "      <td>0</td>\n",
       "      <td>...</td>\n",
       "      <td>0</td>\n",
       "      <td>0</td>\n",
       "      <td>0</td>\n",
       "      <td>0</td>\n",
       "      <td>0</td>\n",
       "      <td>0</td>\n",
       "      <td>0</td>\n",
       "      <td>1</td>\n",
       "      <td>0</td>\n",
       "      <td>0</td>\n",
       "    </tr>\n",
       "  </tbody>\n",
       "</table>\n",
       "<p>5 rows × 24 columns</p>\n",
       "</div>"
      ],
      "text/plain": [
       "   movie id        movie title release date  video release date  \\\n",
       "0         1   Toy Story (1995)  01-Jan-1995                 NaN   \n",
       "1         2   GoldenEye (1995)  01-Jan-1995                 NaN   \n",
       "2         3  Four Rooms (1995)  01-Jan-1995                 NaN   \n",
       "3         4  Get Shorty (1995)  01-Jan-1995                 NaN   \n",
       "4         5     Copycat (1995)  01-Jan-1995                 NaN   \n",
       "\n",
       "                                            IMDb URL  unknown  Action  \\\n",
       "0  http://us.imdb.com/M/title-exact?Toy%20Story%2...        0       0   \n",
       "1  http://us.imdb.com/M/title-exact?GoldenEye%20(...        0       1   \n",
       "2  http://us.imdb.com/M/title-exact?Four%20Rooms%...        0       0   \n",
       "3  http://us.imdb.com/M/title-exact?Get%20Shorty%...        0       1   \n",
       "4  http://us.imdb.com/M/title-exact?Copycat%20(1995)        0       0   \n",
       "\n",
       "   Adventure  Animation  Childrens   ...     Fantasy  Film-Noir  Horror  \\\n",
       "0          0          1          1   ...           0          0       0   \n",
       "1          1          0          0   ...           0          0       0   \n",
       "2          0          0          0   ...           0          0       0   \n",
       "3          0          0          0   ...           0          0       0   \n",
       "4          0          0          0   ...           0          0       0   \n",
       "\n",
       "   Musical  Mystery  Romance  Sci-Fi  Thriller  War  Western  \n",
       "0        0        0        0       0         0    0        0  \n",
       "1        0        0        0       0         1    0        0  \n",
       "2        0        0        0       0         1    0        0  \n",
       "3        0        0        0       0         0    0        0  \n",
       "4        0        0        0       0         1    0        0  \n",
       "\n",
       "[5 rows x 24 columns]"
      ]
     },
     "execution_count": 6,
     "metadata": {},
     "output_type": "execute_result"
    }
   ],
   "source": [
    "Item_details.head(5)"
   ]
  },
  {
   "cell_type": "markdown",
   "metadata": {},
   "source": [
    "<h1>Rating file records </h1>"
   ]
  },
  {
   "cell_type": "code",
   "execution_count": 8,
   "metadata": {},
   "outputs": [
    {
     "data": {
      "text/html": [
       "<div>\n",
       "<style scoped>\n",
       "    .dataframe tbody tr th:only-of-type {\n",
       "        vertical-align: middle;\n",
       "    }\n",
       "\n",
       "    .dataframe tbody tr th {\n",
       "        vertical-align: top;\n",
       "    }\n",
       "\n",
       "    .dataframe thead th {\n",
       "        text-align: right;\n",
       "    }\n",
       "</style>\n",
       "<table border=\"1\" class=\"dataframe\">\n",
       "  <thead>\n",
       "    <tr style=\"text-align: right;\">\n",
       "      <th></th>\n",
       "      <th>user id</th>\n",
       "      <th>item id</th>\n",
       "      <th>rating</th>\n",
       "      <th>timestamp</th>\n",
       "    </tr>\n",
       "  </thead>\n",
       "  <tbody>\n",
       "    <tr>\n",
       "      <th>0</th>\n",
       "      <td>196</td>\n",
       "      <td>242</td>\n",
       "      <td>3</td>\n",
       "      <td>881250949</td>\n",
       "    </tr>\n",
       "    <tr>\n",
       "      <th>1</th>\n",
       "      <td>186</td>\n",
       "      <td>302</td>\n",
       "      <td>3</td>\n",
       "      <td>891717742</td>\n",
       "    </tr>\n",
       "    <tr>\n",
       "      <th>2</th>\n",
       "      <td>22</td>\n",
       "      <td>377</td>\n",
       "      <td>1</td>\n",
       "      <td>878887116</td>\n",
       "    </tr>\n",
       "    <tr>\n",
       "      <th>3</th>\n",
       "      <td>244</td>\n",
       "      <td>51</td>\n",
       "      <td>2</td>\n",
       "      <td>880606923</td>\n",
       "    </tr>\n",
       "    <tr>\n",
       "      <th>4</th>\n",
       "      <td>166</td>\n",
       "      <td>346</td>\n",
       "      <td>1</td>\n",
       "      <td>886397596</td>\n",
       "    </tr>\n",
       "  </tbody>\n",
       "</table>\n",
       "</div>"
      ],
      "text/plain": [
       "   user id  item id  rating  timestamp\n",
       "0      196      242       3  881250949\n",
       "1      186      302       3  891717742\n",
       "2       22      377       1  878887116\n",
       "3      244       51       2  880606923\n",
       "4      166      346       1  886397596"
      ]
     },
     "execution_count": 8,
     "metadata": {},
     "output_type": "execute_result"
    }
   ],
   "source": [
    "Rating_details.head(5)"
   ]
  },
  {
   "cell_type": "markdown",
   "metadata": {},
   "source": [
    "<h1> Creating Rating matrix </h1>"
   ]
  },
  {
   "cell_type": "code",
   "execution_count": 6,
   "metadata": {},
   "outputs": [],
   "source": [
    "user_unique_count=Rating_details[\"user id\"].unique().shape[0]\n",
    "item_unique_count=Rating_details[\"item id\"].unique().shape[0]\n",
    "rating_matrix =np.matrix(np.zeros((user_unique_count,item_unique_count)))\n",
    "for index,row in Rating_details.iterrows():\n",
    "    rating_matrix[row[\"user id\"]-1,row[\"item id\"]-1]=row[\"rating\"]"
   ]
  },
  {
   "cell_type": "markdown",
   "metadata": {},
   "source": [
    "<h1> Define similarity matrix </h1>"
   ]
  },
  {
   "cell_type": "code",
   "execution_count": 8,
   "metadata": {},
   "outputs": [],
   "source": [
    "def similarity_matrix(input_matrix,similarity_type):\n",
    "    if similarity_type==\"user\":\n",
    "        temp= input_matrix.dot(input_matrix.T)\n",
    "        diagonal_sqrt=np.matrix(np.sqrt(np.diagonal(temp)))\n",
    "        SimilarityMatrix = temp/diagonal_sqrt/diagonal_sqrt.T\n",
    "    if similarity_type==\"item\":\n",
    "        temp= (input_matrix.T).dot(input_matrix)\n",
    "        diagonal_sqrt=np.matrix(np.sqrt(np.diagonal(temp)))\n",
    "        SimilarityMatrix = temp/diagonal_sqrt/diagonal_sqrt.T\n",
    "    \n",
    "    return SimilarityMatrix\n",
    "        \n",
    "user_user_similarity_matrix=similarity_matrix(rating_matrix,\"user\")\n",
    "item_item_similarity_matrix=similarity_matrix(rating_matrix,\"item\")"
   ]
  },
  {
   "cell_type": "markdown",
   "metadata": {},
   "source": [
    "<h1> Define prediction matrix </h1>"
   ]
  },
  {
   "cell_type": "code",
   "execution_count": 44,
   "metadata": {},
   "outputs": [
    {
     "data": {
      "text/plain": [
       "3.975097175133227"
      ]
     },
     "execution_count": 44,
     "metadata": {},
     "output_type": "execute_result"
    }
   ],
   "source": [
    "def predicted_rating(Rating_matrix,similarity_matrix,similarity_type):\n",
    "    if similarity_type=='user':\n",
    "        predicted_rating=similarity_matrix.dot(Rating_matrix)/ np.sum(similarity_matrix,axis=1)\n",
    "    if similarity_type=='item':\n",
    "        predicted_rating=Rating_matrix.dot(similarity_matrix)/ np.sum(similarity_matrix,axis=1).T\n",
    "    \n",
    "    return predicted_rating\n",
    "\n",
    "user_user_predicted_rating = predicted_rating(rating_matrix,user_user_similarity_matrix,'user')\n",
    "item_item_predicted_rating = predicted_rating(rating_matrix,item_item_similarity_matrix,'item')\n"
   ]
  },
  {
   "cell_type": "markdown",
   "metadata": {},
   "source": [
    "<h1> Evaluation </h1>"
   ]
  },
  {
   "cell_type": "code",
   "execution_count": 28,
   "metadata": {},
   "outputs": [
    {
     "name": "stdout",
     "output_type": "stream",
     "text": [
      "User based CF RMSE:2.8006215115920248\n",
      "Item based CF RMSE:2.950193296897328\n"
     ]
    }
   ],
   "source": [
    "from sklearn.metrics import mean_squared_error\n",
    "\n",
    "def RMSE_Score(actual,predicted):\n",
    "    actual_non_zero=actual[actual.nonzero()].flatten()\n",
    "    predicted_non_zero=predicted[actual.nonzero()].flatten()\n",
    "    rmse_score=np.sqrt(mean_squared_error(predicted_non_zero,actual_non_zero))\n",
    "    return rmse_score\n",
    "#User based CF RMSE\n",
    "print(\"User based CF RMSE:\"+ str(RMSE_Score(rating_matrix,user_user_predicted_rating)))\n",
    "\n",
    "# Item based CF RMSE\n",
    "print(\"Item based CF RMSE:\"+ str(RMSE_Score(rating_matrix,item_item_predicted_rating)))\n",
    "    "
   ]
  },
  {
   "cell_type": "markdown",
   "metadata": {},
   "source": [
    "<h1> Precision and Recall </h1>"
   ]
  },
  {
   "cell_type": "code",
   "execution_count": 133,
   "metadata": {},
   "outputs": [],
   "source": [
    "# Define test set for first 20 users and first 100 moviees\n",
    "def precision_recall_calculation(rating_matrix,Predicted_rating):\n",
    "    test_set = rating_matrix[0:20,0:100]\n",
    "    predicted_set=Predicted_rating[0:20,0:100]\n",
    "    predicted_set_sorted=predicted_set.argsort()\n",
    "    # Define cut_off list\n",
    "    cut_off_list=range(1,20)\n",
    "    recall_list=[]\n",
    "    precision_list=[]\n",
    "    for i in cut_off_list:\n",
    "        recall_sum=0\n",
    "        precision_sum=0\n",
    "        for user in range(test_set.shape[0]):\n",
    "            # Count-- No. of movies particular user actually watched in 100 movies\n",
    "            user_watched_movies_count= test_set[user].nonzero()[0].shape[0]\n",
    "\n",
    "\n",
    "            # Count-- No. of movies particular user actually watched in  i no. of recommendation\n",
    "            user_watched_recommended_count_within_i=test_set[user,np.array(predicted_set_sorted[user])[0][::-1][:i]].nonzero()[0].shape[0]\n",
    "            if user_watched_movies_count !=0:\n",
    "                recall_sum +=  user_watched_recommended_count_within_i/user_watched_movies_count\n",
    "\n",
    "            precision_sum += user_watched_recommended_count_within_i/i\n",
    "\n",
    "        recall_list.append(recall_sum/test_set.shape[0])\n",
    "        precision_list.append(recall_sum/test_set.shape[0])\n",
    "        \n",
    "    return recall_list,precision_list\n",
    "\n",
    "recall_list_user_based_cf,precision_list_user_based_cf = precision_recall_calculation(rating_matrix,user_user_predicted_rating)\n",
    "\n",
    "recall_list_item_based_cf,precision_list_item_based_cf = precision_recall_calculation(rating_matrix,item_item_predicted_rating)\n",
    " \n",
    "\n"
   ]
  },
  {
   "cell_type": "markdown",
   "metadata": {},
   "source": [
    "<h1> Recall graph for userd based CF and item based CF </h1>"
   ]
  },
  {
   "cell_type": "code",
   "execution_count": 135,
   "metadata": {},
   "outputs": [
    {
     "data": {
      "image/png": "[encoded data removed]",
      "text/plain": [
       "<matplotlib.figure.Figure at 0x1bb31dab828>"
      ]
     },
     "metadata": {},
     "output_type": "display_data"
    }
   ],
   "source": [
    "k=np.arange(1,20)\n",
    "plt.plot(k,recall_list_user_based_cf,label=\"User user collaborative filtering\")\n",
    "plt.plot(k,recall_list_item_based_cf,label=\"Item item collaborative filtering\")\n",
    "plt.xlabel('K')\n",
    "plt.ylabel(\"Recall\")\n",
    "plt.legend()\n",
    "plt.show()\n"
   ]
  },
  {
   "cell_type": "markdown",
   "metadata": {},
   "source": [
    "<h1> Precision graph for userd based CF and item based CF </h1>\n"
   ]
  },
  {
   "cell_type": "code",
   "execution_count": 137,
   "metadata": {},
   "outputs": [
    {
     "data": {
      "image/png": "[encoded data removed]",
      "text/plain": [
       "<matplotlib.figure.Figure at 0x1bb31dab5f8>"
      ]
     },
     "metadata": {},
     "output_type": "display_data"
    }
   ],
   "source": [
    "k=np.arange(1,20)\n",
    "plt.plot(k,precision_list_user_based_cf,label=\"User user collaborative filtering\")\n",
    "plt.plot(k,precision_list_item_based_cf,label=\"Item item collaborative filtering\")\n",
    "plt.xlabel('K')\n",
    "plt.ylabel(\"Precision\")\n",
    "plt.legend()\n",
    "plt.show()"
   ]
  }
 ],
 "metadata": {
  "kernelspec": {
   "display_name": "Python 3",
   "language": "python",
   "name": "python3"
  },
  "language_info": {
   "codemirror_mode": {
    "name": "ipython",
    "version": 3
   },
   "file_extension": ".py",
   "mimetype": "text/x-python",
   "name": "python",
   "nbconvert_exporter": "python",
   "pygments_lexer": "ipython3",
   "version": "3.6.4"
  }
 },
 "nbformat": 4,
 "nbformat_minor": 2
}
